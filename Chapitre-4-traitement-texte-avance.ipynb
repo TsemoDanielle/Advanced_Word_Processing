{
 "cells": [
  {
   "cell_type": "code",
   "execution_count": 1,
   "metadata": {},
   "outputs": [
    {
     "name": "stderr",
     "output_type": "stream",
     "text": [
      "[nltk_data] Downloading package punkt to /home/yannick/nltk_data...\n",
      "[nltk_data]   Package punkt is already up-to-date!\n",
      "[nltk_data] Downloading package stopwords to\n",
      "[nltk_data]     /home/yannick/nltk_data...\n",
      "[nltk_data]   Package stopwords is already up-to-date!\n",
      "/home/yannick/anaconda3/lib/python3.8/site-packages/torch/cuda/__init__.py:52: UserWarning: CUDA initialization: Found no NVIDIA driver on your system. Please check that you have an NVIDIA GPU and installed a driver from http://www.nvidia.com/Download/index.aspx (Triggered internally at  /pytorch/c10/cuda/CUDAFunctions.cpp:100.)\n",
      "  return torch._C._cuda_getDeviceCount() > 0\n"
     ]
    },
    {
     "name": "stdout",
     "output_type": "stream",
     "text": [
      "\n",
      " Tokens totaux :  58\n"
     ]
    }
   ],
   "source": [
    "#Préparer les données à utiliser dans cet exercice\n",
    "\n",
    "import nltk\n",
    "import os\n",
    "#Télécharger le package punkt, utilisé une partie des autres commandes\n",
    "nltk.download('punkt')\n",
    "\n",
    "#Lire le fichier de base dans une liste de jetons\n",
    "base_file = open(os.getcwd()+ \"/Essentiel-Apache-Spark.txt\", 'rt')\n",
    "raw_text = base_file.read()\n",
    "base_file.close()\n",
    "\n",
    "#Exécutez le même prétraitement effectué dans le module 3\n",
    "token_list = nltk.word_tokenize(raw_text)\n",
    "\n",
    "token_list2 = list(filter(lambda token: nltk.tokenize.punkt.PunktToken(token).is_non_punct, token_list))\n",
    "\n",
    "token_list3=[word.lower() for word in token_list2 ]\n",
    "\n",
    "nltk.download('stopwords')\n",
    "from nltk.corpus import stopwords\n",
    "token_list4 = list(filter(lambda token: token not in stopwords.words('french'), token_list3))\n",
    "\n",
    "\n",
    "import spacy\n",
    "from spacy.language import Language\n",
    "\n",
    "nlp = spacy.load('fr_core_news_sm')\n",
    "doc = nlp(\" \".join(token_list4))\n",
    "token_list5 = [d.lemma_ for d in doc]\n",
    "\n",
    "\n",
    "print(\"\\n Tokens totaux : \",len(token_list5))"
   ]
  },
  {
   "cell_type": "markdown",
   "metadata": {},
   "source": [
    "## 04_01 Construire des ngrammes"
   ]
  },
  {
   "cell_type": "code",
   "execution_count": 2,
   "metadata": {},
   "outputs": [
    {
     "name": "stdout",
     "output_type": "stream",
     "text": [
      "Bigrammes les plus courants : \n",
      "[(('apache', 'spark'), 2), (('si', 'intéresser'), 1), (('intéresser', 'big'), 1), (('big', 'data'), 1), (('data', 'connaître'), 1)]\n",
      " \n",
      " Trigrammes les plus courants : \n",
      "[(('si', 'intéresser', 'big'), 1), (('intéresser', 'big', 'data'), 1), (('big', 'data', 'connaître'), 1), (('data', 'connaître', 'certainement'), 1), (('connaître', 'certainement', 'apache'), 1)]\n"
     ]
    }
   ],
   "source": [
    "\n",
    "from nltk.util import ngrams\n",
    "from collections import Counter\n",
    "\n",
    "#Trouvez des bigrammes et imprimez les 5 les plus courants\n",
    "bigrams = ngrams(token_list5,2)\n",
    "print(\"Bigrammes les plus courants : \")\n",
    "print(Counter(bigrams).most_common(5))\n",
    "\n",
    "#Trouvez des trigrammes et imprimez les 5 les plus courants\n",
    "trigrams = ngrams(token_list5,3)\n",
    "print(\" \\n Trigrammes les plus courants : \" )\n",
    "print(Counter(trigrams).most_common(5))"
   ]
  },
  {
   "cell_type": "markdown",
   "metadata": {},
   "source": [
    "## 04_02 Parts-of-Speech Tagging\n",
    "\n",
    "Some examples of Parts-of-Speech abbreviations:\n",
    "NN : noun\n",
    "NNS : noun plural\n",
    "VBP : Verb singular present."
   ]
  },
  {
   "cell_type": "code",
   "execution_count": 3,
   "metadata": {},
   "outputs": [
    {
     "name": "stderr",
     "output_type": "stream",
     "text": [
      "[nltk_data] Downloading package averaged_perceptron_tagger to\n",
      "[nltk_data]     /home/yannick/nltk_data...\n",
      "[nltk_data]   Unzipping taggers/averaged_perceptron_tagger.zip.\n"
     ]
    },
    {
     "data": {
      "text/plain": [
       "[('si', 'NN'),\n",
       " ('intéresser', 'NN'),\n",
       " ('big', 'JJ'),\n",
       " ('data', 'NNS'),\n",
       " ('connaître', 'NN'),\n",
       " ('certainement', 'NN'),\n",
       " ('apache', 'NN'),\n",
       " ('spark', 'NN'),\n",
       " ('savez', 'VBP'),\n",
       " ('vous', 'JJ')]"
      ]
     },
     "execution_count": 3,
     "metadata": {},
     "output_type": "execute_result"
    }
   ],
   "source": [
    "#télécharger le package tagger\n",
    "nltk.download('averaged_perceptron_tagger')\n",
    "\n",
    "#Taguez et imprimez les 10 premiers tokens\n",
    "nltk.pos_tag(token_list5)[:10]"
   ]
  },
  {
   "cell_type": "code",
   "execution_count": 4,
   "metadata": {},
   "outputs": [
    {
     "name": "stdout",
     "output_type": "stream",
     "text": [
      "[('si', 'SCONJ'), ('intéresser', 'VERB'), ('big', 'DET'), ('data', 'ADV'), ('connaître', 'VERB'), ('certainement', 'ADV'), ('apache', 'NOUN'), ('spark', 'AUX'), ('savez', 'ADV'), ('vous', 'PRON')]\n"
     ]
    }
   ],
   "source": [
    "# Tager le texte en utilisant spacy\n",
    "doc = nlp(\" \".join(token_list5))\n",
    "pos_tags = [(d.text, d.pos_) for d in doc]\n",
    "# Afficher les premièrs mots \n",
    "print(pos_tags[:10])"
   ]
  },
  {
   "cell_type": "markdown",
   "metadata": {},
   "source": [
    "## 04_04 Building TF-IDF matrix"
   ]
  },
  {
   "cell_type": "code",
   "execution_count": 3,
   "metadata": {
    "scrolled": true
   },
   "outputs": [
    {
     "name": "stdout",
     "output_type": "stream",
     "text": [
      "Les tokens utilisés comme fonctionnalités sont : : \n",
      "['analyse', 'collecte', 'conseils', 'données', 'démarrer', 'fouille', 'nettoyage', 'python', 'sentiments', 'simplifiée', 'texte']\n",
      "\n",
      " Taille du tableau. Chaque ligne représente un document. Chaque colonne représente une fonctionnalité/jeton\n",
      "(3, 11)\n",
      "\n",
      " Tableau TF-IDF réel\n"
     ]
    },
    {
     "name": "stderr",
     "output_type": "stream",
     "text": [
      "/home/yannick/anaconda3/lib/python3.8/site-packages/sklearn/utils/deprecation.py:87: FutureWarning: Function get_feature_names is deprecated; get_feature_names is deprecated in 1.0 and will be removed in 1.2. Please use get_feature_names_out instead.\n",
      "  warnings.warn(msg, category=FutureWarning)\n"
     ]
    },
    {
     "data": {
      "text/plain": [
       "array([[0.        , 0.        , 0.49047908, 0.        , 0.49047908,\n",
       "        0.37302199, 0.        , 0.49047908, 0.        , 0.        ,\n",
       "        0.37302199],\n",
       "       [0.        , 0.49047908, 0.        , 0.49047908, 0.        ,\n",
       "        0.37302199, 0.49047908, 0.        , 0.        , 0.        ,\n",
       "        0.37302199],\n",
       "       [0.57735027, 0.        , 0.        , 0.        , 0.        ,\n",
       "        0.        , 0.        , 0.        , 0.57735027, 0.57735027,\n",
       "        0.        ]])"
      ]
     },
     "execution_count": 3,
     "metadata": {},
     "output_type": "execute_result"
    }
   ],
   "source": [
    "#Utiliser la bibliothèque scikit-learn\n",
    "from sklearn.feature_extraction.text import TfidfVectorizer\n",
    "import pandas as pd\n",
    "\n",
    "#Utiliser un petit corpus pour chaque visualisation\n",
    "vector_corpus = [\n",
    "    'Fouille du texte en R et Python : 8 conseils pour démarrer',\n",
    "    'Fouille du texte avec R : collecte et nettoyage de données',\n",
    "    'L\\'analyse des sentiments dans R simplifiée'\n",
    "]\n",
    "\n",
    "#Créer un vectoriseur pour la langue française\n",
    "vectorizer = TfidfVectorizer(stop_words=stopwords.words('french'))\n",
    "\n",
    "#Créer le vecteur\n",
    "tfidf=vectorizer.fit_transform(vector_corpus)\n",
    "\n",
    "print(\"Les tokens utilisés comme fonctionnalités sont : : \")\n",
    "print(vectorizer.get_feature_names())\n",
    "\n",
    "print(\"\\n Taille du tableau. Chaque ligne représente un document. Chaque colonne représente une fonctionnalité/jeton\")\n",
    "print(tfidf.shape)\n",
    "\n",
    "print(\"\\n Tableau TF-IDF réel\")\n",
    "tfidf.toarray()\n"
   ]
  },
  {
   "cell_type": "markdown",
   "metadata": {},
   "source": [
    "# Word Clouds <a id=\"8\"></a>\n",
    "`word clouds` (également appelés nuages de texte ou nuages de balises) fonctionnent de manière simple : plus un mot spécifique apparaît dans une source de données textuelles (comme un discours, un article de blog ou une base de données), plus il apparaît en gros et en gras dans le nuage de mots."
   ]
  },
  {
   "cell_type": "code",
   "execution_count": 10,
   "metadata": {},
   "outputs": [
    {
     "name": "stdout",
     "output_type": "stream",
     "text": [
      "/home/yannick/anaconda3/lib/python3.8/site-packages/secretstorage/dhcrypto.py:16: CryptographyDeprecationWarning: int_from_bytes is deprecated, use int.from_bytes instead\n",
      "  from cryptography.utils import int_from_bytes\n",
      "/home/yannick/anaconda3/lib/python3.8/site-packages/secretstorage/util.py:25: CryptographyDeprecationWarning: int_from_bytes is deprecated, use int.from_bytes instead\n",
      "  from cryptography.utils import int_from_bytes\n",
      "Requirement already satisfied: wordcloud==1.8.1 in /home/yannick/anaconda3/lib/python3.8/site-packages (1.8.1)\n",
      "Requirement already satisfied: pillow in /home/yannick/anaconda3/lib/python3.8/site-packages (from wordcloud==1.8.1) (8.0.1)\n",
      "Requirement already satisfied: matplotlib in /home/yannick/anaconda3/lib/python3.8/site-packages (from wordcloud==1.8.1) (3.3.2)\n",
      "Requirement already satisfied: numpy>=1.6.1 in /home/yannick/anaconda3/lib/python3.8/site-packages (from wordcloud==1.8.1) (1.22.2)\n",
      "Requirement already satisfied: certifi>=2020.06.20 in /home/yannick/anaconda3/lib/python3.8/site-packages (from matplotlib->wordcloud==1.8.1) (2021.10.8)\n",
      "Requirement already satisfied: kiwisolver>=1.0.1 in /home/yannick/anaconda3/lib/python3.8/site-packages (from matplotlib->wordcloud==1.8.1) (1.3.0)\n",
      "Requirement already satisfied: cycler>=0.10 in /home/yannick/anaconda3/lib/python3.8/site-packages (from matplotlib->wordcloud==1.8.1) (0.10.0)\n",
      "Requirement already satisfied: python-dateutil>=2.1 in /home/yannick/anaconda3/lib/python3.8/site-packages (from matplotlib->wordcloud==1.8.1) (2.8.1)\n",
      "Requirement already satisfied: pyparsing!=2.0.4,!=2.1.2,!=2.1.6,>=2.0.3 in /home/yannick/anaconda3/lib/python3.8/site-packages (from matplotlib->wordcloud==1.8.1) (2.4.7)\n",
      "Requirement already satisfied: six in /home/yannick/anaconda3/lib/python3.8/site-packages (from cycler>=0.10->matplotlib->wordcloud==1.8.1) (1.15.0)\n",
      "\n",
      "\u001b[1m[\u001b[0m\u001b[34;49mnotice\u001b[0m\u001b[1;39;49m]\u001b[0m\u001b[39;49m A new release of pip available: \u001b[0m\u001b[31;49m22.1.2\u001b[0m\u001b[39;49m -> \u001b[0m\u001b[32;49m22.2.2\u001b[0m\n",
      "\u001b[1m[\u001b[0m\u001b[34;49mnotice\u001b[0m\u001b[1;39;49m]\u001b[0m\u001b[39;49m To update, run: \u001b[0m\u001b[32;49mpip install --upgrade pip\u001b[0m\n",
      "Wordcloud is installed and imported!\n"
     ]
    }
   ],
   "source": [
    "# install wordcloud\n",
    "!pip3 install wordcloud==1.8.1\n",
    "\n",
    "# import package and its set of stopwords\n",
    "from wordcloud import WordCloud, STOPWORDS\n",
    "import matplotlib.pyplot as plt\n",
    "\n",
    "print ('Wordcloud is installed and imported!')"
   ]
  },
  {
   "cell_type": "code",
   "execution_count": 11,
   "metadata": {},
   "outputs": [
    {
     "data": {
      "image/png": "[encoded data removed]",
      "text/plain": [
       "<Figure size 432x288 with 1 Axes>"
      ]
     },
     "metadata": {
      "needs_background": "light"
     },
     "output_type": "display_data"
    }
   ],
   "source": [
    "stopwords = set(STOPWORDS)\n",
    "# instantiate a word cloud object\n",
    "ex_wc = WordCloud(\n",
    "    background_color='white',\n",
    "    max_words=2000,\n",
    "    stopwords=stopwords\n",
    ")\n",
    "\n",
    "# generate the word cloud\n",
    "corpus = \"\"\n",
    "for doc in vector_corpus:\n",
    "    corpus += \" \"+doc\n",
    "ex_wc.generate(corpus)\n",
    "# display the word cloud\n",
    "plt.imshow(ex_wc, interpolation='bilinear')\n",
    "plt.axis('off')\n",
    "plt.show()"
   ]
  },
  {
   "cell_type": "code",
   "execution_count": null,
   "metadata": {},
   "outputs": [],
   "source": []
  }
 ],
 "metadata": {
  "kernelspec": {
   "display_name": "Python 3",
   "language": "python",
   "name": "python3"
  },
  "language_info": {
   "codemirror_mode": {
    "name": "ipython",
    "version": 3
   },
   "file_extension": ".py",
   "mimetype": "text/x-python",
   "name": "python",
   "nbconvert_exporter": "python",
   "pygments_lexer": "ipython3",
   "version": "3.8.8"
  }
 },
 "nbformat": 4,
 "nbformat_minor": 2
}
